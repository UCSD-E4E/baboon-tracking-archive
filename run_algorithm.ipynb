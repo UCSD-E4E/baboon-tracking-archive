{
 "cells": [
  {
   "cell_type": "markdown",
   "metadata": {},
   "source": [
    "# Imports"
   ]
  },
  {
   "cell_type": "code",
   "execution_count": 3,
   "metadata": {},
   "outputs": [],
   "source": [
    "import os\n",
    "import sys\n",
    "import cv2\n",
    "import numpy as np\n",
    "import time\n",
    "import multiprocessing\n",
    "import yaml\n",
    "import baboon_tracking as bt\n",
    "import baboon_tracking.registration\n",
    "import baboon_tracking.foreground_extraction"
   ]
  },
  {
   "cell_type": "markdown",
   "metadata": {},
   "source": [
    "# Config Setting"
   ]
  },
  {
   "cell_type": "code",
   "execution_count": 4,
   "metadata": {},
   "outputs": [],
   "source": [
    "with open(\"config.yml\", 'r') as stream:\n",
    "    try:\n",
    "        config = yaml.safe_load(stream)\n",
    "    except yaml.YAMLError as exc:\n",
    "        print(exc)\n",
    "        sys.exit()"
   ]
  },
  {
   "cell_type": "markdown",
   "metadata": {},
   "source": [
    "# Get Video"
   ]
  },
  {
   "cell_type": "code",
   "execution_count": 8,
   "metadata": {},
   "outputs": [],
   "source": [
    "cap = cv2.VideoCapture(config['input'])\n",
    "assert cap.isOpened(), \"Failed to open video {}\".format(INPUT_VIDEO)\n",
    "\n",
    "frame_width = int(cap.get(3))\n",
    "frame_height = int(cap.get(4))\n",
    "out = cv2.VideoWriter(config['output'], cv2.VideoWriter_fourcc(*'mp4v'), 20.0, (frame_width,frame_height))\n",
    "\n",
    "cpus = multiprocessing.cpu_count()\n",
    "pool = multiprocessing.Pool(processes=cpus)"
   ]
  },
  {
   "cell_type": "markdown",
   "metadata": {},
   "source": [
    "# Set Up Tracker"
   ]
  },
  {
   "cell_type": "markdown",
   "metadata": {},
   "source": [
    "#### IMPORTANT\n",
    "Edit the host and port of bt.ImageStreamServer depending on where this code is run.  \n",
    "If run in docker container, hostname should be 'rabbitmq' or whatever DNS name is assigned to the rabbit container.  \n",
    "If run on local machine, hostname should be 'localhost'"
   ]
  },
  {
   "cell_type": "code",
   "execution_count": null,
   "metadata": {},
   "outputs": [],
   "source": [
    "registration = bt.registration.ORB_RANSAC_Registration(config)\n",
    "fg_extraction = bt.foreground_extraction.VariableBackgroundSub_ForegroundExtraction(config)\n",
    "\n",
    "tracker = bt.BaboonTracker(config=config, registration=registration, foreground_extraction=fg_extraction, pool=pool)\n",
    "server = bt.ImageStreamServer(host='rabbitmq', port='5672')"
   ]
  },
  {
   "cell_type": "markdown",
   "metadata": {},
   "source": [
    "# Run Algorithm"
   ]
  },
  {
   "cell_type": "code",
   "execution_count": null,
   "metadata": {},
   "outputs": [],
   "source": [
    "start = time.clock()\n",
    "framecount = 1\n",
    "# Read until video is completed\n",
    "while(cap.isOpened()):\n",
    "    # Capture frame-by-frame\n",
    "    ret, frame = cap.read()\n",
    "    if ret == True:\n",
    "        gray = cv2.cvtColor(frame, cv2.COLOR_BGR2GRAY)\n",
    "\n",
    "        # We need at least n frames to continue\n",
    "        if (len(tracker.history_frames) < config['history_frames']):\n",
    "            tracker.push_history_frame(gray)\n",
    "            continue\n",
    "\n",
    "        # returns list of tuples of (shifted frames, transformation matrix)\n",
    "        shifted_history_frames = tracker.shift_history_frames(gray)\n",
    "\n",
    "        # splits tuple list into two lists\n",
    "        Ms = [f[1] for f in shifted_history_frames]\n",
    "        shifted_history_frames = [f[0] for f in shifted_history_frames]\n",
    "\n",
    "        # generates moving foreground mask\n",
    "        moving_foreground = tracker.generate_motion_mask(gray, shifted_history_frames, Ms, framecount)\n",
    "\n",
    "        # Send the resulting frame to rabbitmq\n",
    "        server.imshow(moving_foreground)\n",
    "        out.write(cv2.cvtColor(moving_foreground, cv2.COLOR_GRAY2BGR))\n",
    "\n",
    "        tracker.push_history_frame(gray)\n",
    "\n",
    "        curr_time = time.clock() - start\n",
    "\n",
    "        print('curr_time: ' + str(curr_time))\n",
    "        framecount = framecount + 1\n",
    "\n",
    "    # Break the loop\n",
    "    else:\n",
    "        break\n",
    "\n",
    "# When everything done, release the video capture object\n",
    "cap.release()\n",
    "out.release()\n",
    "\n",
    "# Closes all the frames\n",
    "cv2.destroyAllWindows()"
   ]
  }
 ],
 "metadata": {
  "kernelspec": {
   "display_name": "Python 3",
   "language": "python",
   "name": "python3"
  },
  "language_info": {
   "codemirror_mode": {
    "name": "ipython",
    "version": 3
   },
   "file_extension": ".py",
   "mimetype": "text/x-python",
   "name": "python",
   "nbconvert_exporter": "python",
   "pygments_lexer": "ipython3",
   "version": "3.6.7"
  }
 },
 "nbformat": 4,
 "nbformat_minor": 2
}
